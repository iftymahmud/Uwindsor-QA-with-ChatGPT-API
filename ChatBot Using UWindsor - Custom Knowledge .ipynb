{
 "cells": [
  {
   "cell_type": "code",
   "execution_count": 1,
   "id": "23501ee3",
   "metadata": {},
   "outputs": [],
   "source": [
    "# Knowledge Base >> https://github.com/iftymahmud/UWindsor_KnowledgeBase"
   ]
  },
  {
   "cell_type": "code",
   "execution_count": 2,
   "id": "e0135a9f",
   "metadata": {
    "scrolled": true
   },
   "outputs": [
    {
     "name": "stdout",
     "output_type": "stream",
     "text": [
      "Requirement already satisfied: openai==1.10.0 in /Users/iftymahmud/anaconda3/lib/python3.11/site-packages (1.10.0)\n",
      "Requirement already satisfied: anyio<5,>=3.5.0 in /Users/iftymahmud/anaconda3/lib/python3.11/site-packages (from openai==1.10.0) (3.5.0)\n",
      "Requirement already satisfied: distro<2,>=1.7.0 in /Users/iftymahmud/anaconda3/lib/python3.11/site-packages (from openai==1.10.0) (1.9.0)\n",
      "Requirement already satisfied: httpx<1,>=0.23.0 in /Users/iftymahmud/anaconda3/lib/python3.11/site-packages (from openai==1.10.0) (0.26.0)\n",
      "Requirement already satisfied: pydantic<3,>=1.9.0 in /Users/iftymahmud/anaconda3/lib/python3.11/site-packages (from openai==1.10.0) (1.10.7)\n",
      "Requirement already satisfied: sniffio in /Users/iftymahmud/anaconda3/lib/python3.11/site-packages (from openai==1.10.0) (1.3.0)\n",
      "Requirement already satisfied: tqdm>4 in /Users/iftymahmud/anaconda3/lib/python3.11/site-packages (from openai==1.10.0) (4.65.0)\n",
      "Requirement already satisfied: typing-extensions<5,>=4.7 in /Users/iftymahmud/anaconda3/lib/python3.11/site-packages (from openai==1.10.0) (4.9.0)\n",
      "Requirement already satisfied: idna>=2.8 in /Users/iftymahmud/anaconda3/lib/python3.11/site-packages (from anyio<5,>=3.5.0->openai==1.10.0) (3.4)\n",
      "Requirement already satisfied: certifi in /Users/iftymahmud/anaconda3/lib/python3.11/site-packages (from httpx<1,>=0.23.0->openai==1.10.0) (2022.12.7)\n",
      "Requirement already satisfied: httpcore==1.* in /Users/iftymahmud/anaconda3/lib/python3.11/site-packages (from httpx<1,>=0.23.0->openai==1.10.0) (1.0.2)\n",
      "Requirement already satisfied: h11<0.15,>=0.13 in /Users/iftymahmud/anaconda3/lib/python3.11/site-packages (from httpcore==1.*->httpx<1,>=0.23.0->openai==1.10.0) (0.14.0)\n",
      "Requirement already satisfied: llama-index==0.9.42.post1 in /Users/iftymahmud/anaconda3/lib/python3.11/site-packages (0.9.42.post1)\n",
      "Requirement already satisfied: SQLAlchemy[asyncio]>=1.4.49 in /Users/iftymahmud/anaconda3/lib/python3.11/site-packages (from llama-index==0.9.42.post1) (1.4.51)\n",
      "Requirement already satisfied: aiohttp<4.0.0,>=3.8.6 in /Users/iftymahmud/anaconda3/lib/python3.11/site-packages (from llama-index==0.9.42.post1) (3.9.3)\n",
      "Requirement already satisfied: dataclasses-json in /Users/iftymahmud/anaconda3/lib/python3.11/site-packages (from llama-index==0.9.42.post1) (0.5.7)\n",
      "Requirement already satisfied: deprecated>=1.2.9.3 in /Users/iftymahmud/anaconda3/lib/python3.11/site-packages (from llama-index==0.9.42.post1) (1.2.14)\n",
      "Requirement already satisfied: dirtyjson<2.0.0,>=1.0.8 in /Users/iftymahmud/anaconda3/lib/python3.11/site-packages (from llama-index==0.9.42.post1) (1.0.8)\n",
      "Requirement already satisfied: fsspec>=2023.5.0 in /Users/iftymahmud/anaconda3/lib/python3.11/site-packages (from llama-index==0.9.42.post1) (2023.12.2)\n",
      "Requirement already satisfied: httpx in /Users/iftymahmud/anaconda3/lib/python3.11/site-packages (from llama-index==0.9.42.post1) (0.26.0)\n",
      "Requirement already satisfied: nest-asyncio<2.0.0,>=1.5.8 in /Users/iftymahmud/anaconda3/lib/python3.11/site-packages (from llama-index==0.9.42.post1) (1.6.0)\n",
      "Requirement already satisfied: networkx>=3.0 in /Users/iftymahmud/anaconda3/lib/python3.11/site-packages (from llama-index==0.9.42.post1) (3.1)\n",
      "Requirement already satisfied: nltk<4.0.0,>=3.8.1 in /Users/iftymahmud/anaconda3/lib/python3.11/site-packages (from llama-index==0.9.42.post1) (3.8.1)\n",
      "Requirement already satisfied: numpy in /Users/iftymahmud/anaconda3/lib/python3.11/site-packages (from llama-index==0.9.42.post1) (1.24.2)\n",
      "Requirement already satisfied: openai>=1.1.0 in /Users/iftymahmud/anaconda3/lib/python3.11/site-packages (from llama-index==0.9.42.post1) (1.10.0)\n",
      "Requirement already satisfied: pandas in /Users/iftymahmud/anaconda3/lib/python3.11/site-packages (from llama-index==0.9.42.post1) (2.0.0)\n",
      "Requirement already satisfied: requests>=2.31.0 in /Users/iftymahmud/anaconda3/lib/python3.11/site-packages (from llama-index==0.9.42.post1) (2.31.0)\n",
      "Requirement already satisfied: tenacity<9.0.0,>=8.2.0 in /Users/iftymahmud/anaconda3/lib/python3.11/site-packages (from llama-index==0.9.42.post1) (8.2.2)\n",
      "Requirement already satisfied: tiktoken>=0.3.3 in /Users/iftymahmud/anaconda3/lib/python3.11/site-packages (from llama-index==0.9.42.post1) (0.3.3)\n",
      "Requirement already satisfied: typing-extensions>=4.5.0 in /Users/iftymahmud/anaconda3/lib/python3.11/site-packages (from llama-index==0.9.42.post1) (4.9.0)\n",
      "Requirement already satisfied: typing-inspect>=0.8.0 in /Users/iftymahmud/anaconda3/lib/python3.11/site-packages (from llama-index==0.9.42.post1) (0.8.0)\n",
      "Requirement already satisfied: aiosignal>=1.1.2 in /Users/iftymahmud/anaconda3/lib/python3.11/site-packages (from aiohttp<4.0.0,>=3.8.6->llama-index==0.9.42.post1) (1.3.1)\n",
      "Requirement already satisfied: attrs>=17.3.0 in /Users/iftymahmud/anaconda3/lib/python3.11/site-packages (from aiohttp<4.0.0,>=3.8.6->llama-index==0.9.42.post1) (22.2.0)\n",
      "Requirement already satisfied: frozenlist>=1.1.1 in /Users/iftymahmud/anaconda3/lib/python3.11/site-packages (from aiohttp<4.0.0,>=3.8.6->llama-index==0.9.42.post1) (1.3.3)\n",
      "Requirement already satisfied: multidict<7.0,>=4.5 in /Users/iftymahmud/anaconda3/lib/python3.11/site-packages (from aiohttp<4.0.0,>=3.8.6->llama-index==0.9.42.post1) (6.0.4)\n",
      "Requirement already satisfied: yarl<2.0,>=1.0 in /Users/iftymahmud/anaconda3/lib/python3.11/site-packages (from aiohttp<4.0.0,>=3.8.6->llama-index==0.9.42.post1) (1.8.2)\n",
      "Requirement already satisfied: wrapt<2,>=1.10 in /Users/iftymahmud/anaconda3/lib/python3.11/site-packages (from deprecated>=1.2.9.3->llama-index==0.9.42.post1) (1.14.1)\n",
      "Requirement already satisfied: click in /Users/iftymahmud/anaconda3/lib/python3.11/site-packages (from nltk<4.0.0,>=3.8.1->llama-index==0.9.42.post1) (8.0.4)\n",
      "Requirement already satisfied: joblib in /Users/iftymahmud/anaconda3/lib/python3.11/site-packages (from nltk<4.0.0,>=3.8.1->llama-index==0.9.42.post1) (1.2.0)\n",
      "Requirement already satisfied: regex>=2021.8.3 in /Users/iftymahmud/anaconda3/lib/python3.11/site-packages (from nltk<4.0.0,>=3.8.1->llama-index==0.9.42.post1) (2023.3.23)\n",
      "Requirement already satisfied: tqdm in /Users/iftymahmud/anaconda3/lib/python3.11/site-packages (from nltk<4.0.0,>=3.8.1->llama-index==0.9.42.post1) (4.65.0)\n",
      "Requirement already satisfied: anyio<5,>=3.5.0 in /Users/iftymahmud/anaconda3/lib/python3.11/site-packages (from openai>=1.1.0->llama-index==0.9.42.post1) (3.5.0)\n",
      "Requirement already satisfied: distro<2,>=1.7.0 in /Users/iftymahmud/anaconda3/lib/python3.11/site-packages (from openai>=1.1.0->llama-index==0.9.42.post1) (1.9.0)\n",
      "Requirement already satisfied: pydantic<3,>=1.9.0 in /Users/iftymahmud/anaconda3/lib/python3.11/site-packages (from openai>=1.1.0->llama-index==0.9.42.post1) (1.10.7)\n",
      "Requirement already satisfied: sniffio in /Users/iftymahmud/anaconda3/lib/python3.11/site-packages (from openai>=1.1.0->llama-index==0.9.42.post1) (1.3.0)\n",
      "Requirement already satisfied: certifi in /Users/iftymahmud/anaconda3/lib/python3.11/site-packages (from httpx->llama-index==0.9.42.post1) (2022.12.7)\n",
      "Requirement already satisfied: httpcore==1.* in /Users/iftymahmud/anaconda3/lib/python3.11/site-packages (from httpx->llama-index==0.9.42.post1) (1.0.2)\n",
      "Requirement already satisfied: idna in /Users/iftymahmud/anaconda3/lib/python3.11/site-packages (from httpx->llama-index==0.9.42.post1) (3.4)\n",
      "Requirement already satisfied: h11<0.15,>=0.13 in /Users/iftymahmud/anaconda3/lib/python3.11/site-packages (from httpcore==1.*->httpx->llama-index==0.9.42.post1) (0.14.0)\n",
      "Requirement already satisfied: charset-normalizer<4,>=2 in /Users/iftymahmud/anaconda3/lib/python3.11/site-packages (from requests>=2.31.0->llama-index==0.9.42.post1) (3.1.0)\n",
      "Requirement already satisfied: urllib3<3,>=1.21.1 in /Users/iftymahmud/anaconda3/lib/python3.11/site-packages (from requests>=2.31.0->llama-index==0.9.42.post1) (1.26.15)\n",
      "Requirement already satisfied: greenlet!=0.4.17 in /Users/iftymahmud/anaconda3/lib/python3.11/site-packages (from SQLAlchemy[asyncio]>=1.4.49->llama-index==0.9.42.post1) (2.0.1)\n",
      "Requirement already satisfied: mypy-extensions>=0.3.0 in /Users/iftymahmud/anaconda3/lib/python3.11/site-packages (from typing-inspect>=0.8.0->llama-index==0.9.42.post1) (1.0.0)\n",
      "Requirement already satisfied: marshmallow<4.0.0,>=3.3.0 in /Users/iftymahmud/anaconda3/lib/python3.11/site-packages (from dataclasses-json->llama-index==0.9.42.post1) (3.19.0)\n"
     ]
    },
    {
     "name": "stdout",
     "output_type": "stream",
     "text": [
      "Requirement already satisfied: marshmallow-enum<2.0.0,>=1.5.1 in /Users/iftymahmud/anaconda3/lib/python3.11/site-packages (from dataclasses-json->llama-index==0.9.42.post1) (1.5.1)\n",
      "Requirement already satisfied: python-dateutil>=2.8.2 in /Users/iftymahmud/anaconda3/lib/python3.11/site-packages (from pandas->llama-index==0.9.42.post1) (2.8.2)\n",
      "Requirement already satisfied: pytz>=2020.1 in /Users/iftymahmud/anaconda3/lib/python3.11/site-packages (from pandas->llama-index==0.9.42.post1) (2023.3)\n",
      "Requirement already satisfied: tzdata>=2022.1 in /Users/iftymahmud/anaconda3/lib/python3.11/site-packages (from pandas->llama-index==0.9.42.post1) (2023.3)\n",
      "Requirement already satisfied: packaging>=17.0 in /Users/iftymahmud/anaconda3/lib/python3.11/site-packages (from marshmallow<4.0.0,>=3.3.0->dataclasses-json->llama-index==0.9.42.post1) (23.1)\n",
      "Requirement already satisfied: six>=1.5 in /Users/iftymahmud/anaconda3/lib/python3.11/site-packages (from python-dateutil>=2.8.2->pandas->llama-index==0.9.42.post1) (1.16.0)\n",
      "Requirement already satisfied: gpt-index==0.4.24 in /Users/iftymahmud/anaconda3/lib/python3.11/site-packages (0.4.24)\n",
      "Requirement already satisfied: dataclasses-json in /Users/iftymahmud/anaconda3/lib/python3.11/site-packages (from gpt-index==0.4.24) (0.5.7)\n",
      "Requirement already satisfied: langchain in /Users/iftymahmud/anaconda3/lib/python3.11/site-packages (from gpt-index==0.4.24) (0.0.148)\n",
      "Requirement already satisfied: numpy in /Users/iftymahmud/anaconda3/lib/python3.11/site-packages (from gpt-index==0.4.24) (1.24.2)\n",
      "Requirement already satisfied: tenacity<9.0.0,>=8.2.0 in /Users/iftymahmud/anaconda3/lib/python3.11/site-packages (from gpt-index==0.4.24) (8.2.2)\n",
      "Requirement already satisfied: openai>=0.26.4 in /Users/iftymahmud/anaconda3/lib/python3.11/site-packages (from gpt-index==0.4.24) (1.10.0)\n",
      "Requirement already satisfied: pandas in /Users/iftymahmud/anaconda3/lib/python3.11/site-packages (from gpt-index==0.4.24) (2.0.0)\n",
      "Requirement already satisfied: tiktoken in /Users/iftymahmud/anaconda3/lib/python3.11/site-packages (from gpt-index==0.4.24) (0.3.3)\n",
      "Requirement already satisfied: anyio<5,>=3.5.0 in /Users/iftymahmud/anaconda3/lib/python3.11/site-packages (from openai>=0.26.4->gpt-index==0.4.24) (3.5.0)\n",
      "Requirement already satisfied: distro<2,>=1.7.0 in /Users/iftymahmud/anaconda3/lib/python3.11/site-packages (from openai>=0.26.4->gpt-index==0.4.24) (1.9.0)\n",
      "Requirement already satisfied: httpx<1,>=0.23.0 in /Users/iftymahmud/anaconda3/lib/python3.11/site-packages (from openai>=0.26.4->gpt-index==0.4.24) (0.26.0)\n",
      "Requirement already satisfied: pydantic<3,>=1.9.0 in /Users/iftymahmud/anaconda3/lib/python3.11/site-packages (from openai>=0.26.4->gpt-index==0.4.24) (1.10.7)\n",
      "Requirement already satisfied: sniffio in /Users/iftymahmud/anaconda3/lib/python3.11/site-packages (from openai>=0.26.4->gpt-index==0.4.24) (1.3.0)\n",
      "Requirement already satisfied: tqdm>4 in /Users/iftymahmud/anaconda3/lib/python3.11/site-packages (from openai>=0.26.4->gpt-index==0.4.24) (4.65.0)\n",
      "Requirement already satisfied: typing-extensions<5,>=4.7 in /Users/iftymahmud/anaconda3/lib/python3.11/site-packages (from openai>=0.26.4->gpt-index==0.4.24) (4.9.0)\n",
      "Requirement already satisfied: marshmallow<4.0.0,>=3.3.0 in /Users/iftymahmud/anaconda3/lib/python3.11/site-packages (from dataclasses-json->gpt-index==0.4.24) (3.19.0)\n",
      "Requirement already satisfied: marshmallow-enum<2.0.0,>=1.5.1 in /Users/iftymahmud/anaconda3/lib/python3.11/site-packages (from dataclasses-json->gpt-index==0.4.24) (1.5.1)\n",
      "Requirement already satisfied: typing-inspect>=0.4.0 in /Users/iftymahmud/anaconda3/lib/python3.11/site-packages (from dataclasses-json->gpt-index==0.4.24) (0.8.0)\n",
      "Requirement already satisfied: PyYAML>=5.4.1 in /Users/iftymahmud/anaconda3/lib/python3.11/site-packages (from langchain->gpt-index==0.4.24) (6.0)\n",
      "Requirement already satisfied: SQLAlchemy<2,>=1 in /Users/iftymahmud/anaconda3/lib/python3.11/site-packages (from langchain->gpt-index==0.4.24) (1.4.51)\n",
      "Requirement already satisfied: aiohttp<4.0.0,>=3.8.3 in /Users/iftymahmud/anaconda3/lib/python3.11/site-packages (from langchain->gpt-index==0.4.24) (3.9.3)\n",
      "Requirement already satisfied: numexpr<3.0.0,>=2.8.4 in /Users/iftymahmud/anaconda3/lib/python3.11/site-packages (from langchain->gpt-index==0.4.24) (2.8.4)\n",
      "Requirement already satisfied: openapi-schema-pydantic<2.0,>=1.2 in /Users/iftymahmud/anaconda3/lib/python3.11/site-packages (from langchain->gpt-index==0.4.24) (1.2.4)\n",
      "Requirement already satisfied: requests<3,>=2 in /Users/iftymahmud/anaconda3/lib/python3.11/site-packages (from langchain->gpt-index==0.4.24) (2.31.0)\n",
      "Requirement already satisfied: python-dateutil>=2.8.2 in /Users/iftymahmud/anaconda3/lib/python3.11/site-packages (from pandas->gpt-index==0.4.24) (2.8.2)\n",
      "Requirement already satisfied: pytz>=2020.1 in /Users/iftymahmud/anaconda3/lib/python3.11/site-packages (from pandas->gpt-index==0.4.24) (2023.3)\n",
      "Requirement already satisfied: tzdata>=2022.1 in /Users/iftymahmud/anaconda3/lib/python3.11/site-packages (from pandas->gpt-index==0.4.24) (2023.3)\n",
      "Requirement already satisfied: regex>=2022.1.18 in /Users/iftymahmud/anaconda3/lib/python3.11/site-packages (from tiktoken->gpt-index==0.4.24) (2023.3.23)\n",
      "Requirement already satisfied: aiosignal>=1.1.2 in /Users/iftymahmud/anaconda3/lib/python3.11/site-packages (from aiohttp<4.0.0,>=3.8.3->langchain->gpt-index==0.4.24) (1.3.1)\n",
      "Requirement already satisfied: attrs>=17.3.0 in /Users/iftymahmud/anaconda3/lib/python3.11/site-packages (from aiohttp<4.0.0,>=3.8.3->langchain->gpt-index==0.4.24) (22.2.0)\n",
      "Requirement already satisfied: frozenlist>=1.1.1 in /Users/iftymahmud/anaconda3/lib/python3.11/site-packages (from aiohttp<4.0.0,>=3.8.3->langchain->gpt-index==0.4.24) (1.3.3)\n",
      "Requirement already satisfied: multidict<7.0,>=4.5 in /Users/iftymahmud/anaconda3/lib/python3.11/site-packages (from aiohttp<4.0.0,>=3.8.3->langchain->gpt-index==0.4.24) (6.0.4)\n",
      "Requirement already satisfied: yarl<2.0,>=1.0 in /Users/iftymahmud/anaconda3/lib/python3.11/site-packages (from aiohttp<4.0.0,>=3.8.3->langchain->gpt-index==0.4.24) (1.8.2)\n",
      "Requirement already satisfied: idna>=2.8 in /Users/iftymahmud/anaconda3/lib/python3.11/site-packages (from anyio<5,>=3.5.0->openai>=0.26.4->gpt-index==0.4.24) (3.4)\n",
      "Requirement already satisfied: certifi in /Users/iftymahmud/anaconda3/lib/python3.11/site-packages (from httpx<1,>=0.23.0->openai>=0.26.4->gpt-index==0.4.24) (2022.12.7)\n",
      "Requirement already satisfied: httpcore==1.* in /Users/iftymahmud/anaconda3/lib/python3.11/site-packages (from httpx<1,>=0.23.0->openai>=0.26.4->gpt-index==0.4.24) (1.0.2)\n",
      "Requirement already satisfied: h11<0.15,>=0.13 in /Users/iftymahmud/anaconda3/lib/python3.11/site-packages (from httpcore==1.*->httpx<1,>=0.23.0->openai>=0.26.4->gpt-index==0.4.24) (0.14.0)\n",
      "Requirement already satisfied: packaging>=17.0 in /Users/iftymahmud/anaconda3/lib/python3.11/site-packages (from marshmallow<4.0.0,>=3.3.0->dataclasses-json->gpt-index==0.4.24) (23.1)\n",
      "Requirement already satisfied: six>=1.5 in /Users/iftymahmud/anaconda3/lib/python3.11/site-packages (from python-dateutil>=2.8.2->pandas->gpt-index==0.4.24) (1.16.0)\n",
      "Requirement already satisfied: charset-normalizer<4,>=2 in /Users/iftymahmud/anaconda3/lib/python3.11/site-packages (from requests<3,>=2->langchain->gpt-index==0.4.24) (3.1.0)\n",
      "Requirement already satisfied: urllib3<3,>=1.21.1 in /Users/iftymahmud/anaconda3/lib/python3.11/site-packages (from requests<3,>=2->langchain->gpt-index==0.4.24) (1.26.15)\n",
      "Requirement already satisfied: mypy-extensions>=0.3.0 in /Users/iftymahmud/anaconda3/lib/python3.11/site-packages (from typing-inspect>=0.4.0->dataclasses-json->gpt-index==0.4.24) (1.0.0)\n",
      "Requirement already satisfied: langchain==0.0.148 in /Users/iftymahmud/anaconda3/lib/python3.11/site-packages (0.0.148)\n",
      "Requirement already satisfied: PyYAML>=5.4.1 in /Users/iftymahmud/anaconda3/lib/python3.11/site-packages (from langchain==0.0.148) (6.0)\n",
      "Requirement already satisfied: SQLAlchemy<2,>=1 in /Users/iftymahmud/anaconda3/lib/python3.11/site-packages (from langchain==0.0.148) (1.4.51)\n",
      "Requirement already satisfied: aiohttp<4.0.0,>=3.8.3 in /Users/iftymahmud/anaconda3/lib/python3.11/site-packages (from langchain==0.0.148) (3.9.3)\n",
      "Requirement already satisfied: dataclasses-json<0.6.0,>=0.5.7 in /Users/iftymahmud/anaconda3/lib/python3.11/site-packages (from langchain==0.0.148) (0.5.7)\n",
      "Requirement already satisfied: numexpr<3.0.0,>=2.8.4 in /Users/iftymahmud/anaconda3/lib/python3.11/site-packages (from langchain==0.0.148) (2.8.4)\n",
      "Requirement already satisfied: numpy<2,>=1 in /Users/iftymahmud/anaconda3/lib/python3.11/site-packages (from langchain==0.0.148) (1.24.2)\n",
      "Requirement already satisfied: openapi-schema-pydantic<2.0,>=1.2 in /Users/iftymahmud/anaconda3/lib/python3.11/site-packages (from langchain==0.0.148) (1.2.4)\n",
      "Requirement already satisfied: pydantic<2,>=1 in /Users/iftymahmud/anaconda3/lib/python3.11/site-packages (from langchain==0.0.148) (1.10.7)\n",
      "Requirement already satisfied: requests<3,>=2 in /Users/iftymahmud/anaconda3/lib/python3.11/site-packages (from langchain==0.0.148) (2.31.0)\n",
      "Requirement already satisfied: tenacity<9.0.0,>=8.1.0 in /Users/iftymahmud/anaconda3/lib/python3.11/site-packages (from langchain==0.0.148) (8.2.2)\n",
      "Requirement already satisfied: tqdm>=4.48.0 in /Users/iftymahmud/anaconda3/lib/python3.11/site-packages (from langchain==0.0.148) (4.65.0)\n",
      "Requirement already satisfied: aiosignal>=1.1.2 in /Users/iftymahmud/anaconda3/lib/python3.11/site-packages (from aiohttp<4.0.0,>=3.8.3->langchain==0.0.148) (1.3.1)\n",
      "Requirement already satisfied: attrs>=17.3.0 in /Users/iftymahmud/anaconda3/lib/python3.11/site-packages (from aiohttp<4.0.0,>=3.8.3->langchain==0.0.148) (22.2.0)\n",
      "Requirement already satisfied: frozenlist>=1.1.1 in /Users/iftymahmud/anaconda3/lib/python3.11/site-packages (from aiohttp<4.0.0,>=3.8.3->langchain==0.0.148) (1.3.3)\n",
      "Requirement already satisfied: multidict<7.0,>=4.5 in /Users/iftymahmud/anaconda3/lib/python3.11/site-packages (from aiohttp<4.0.0,>=3.8.3->langchain==0.0.148) (6.0.4)\n",
      "Requirement already satisfied: yarl<2.0,>=1.0 in /Users/iftymahmud/anaconda3/lib/python3.11/site-packages (from aiohttp<4.0.0,>=3.8.3->langchain==0.0.148) (1.8.2)\n",
      "Requirement already satisfied: marshmallow<4.0.0,>=3.3.0 in /Users/iftymahmud/anaconda3/lib/python3.11/site-packages (from dataclasses-json<0.6.0,>=0.5.7->langchain==0.0.148) (3.19.0)\n",
      "Requirement already satisfied: marshmallow-enum<2.0.0,>=1.5.1 in /Users/iftymahmud/anaconda3/lib/python3.11/site-packages (from dataclasses-json<0.6.0,>=0.5.7->langchain==0.0.148) (1.5.1)\n",
      "Requirement already satisfied: typing-inspect>=0.4.0 in /Users/iftymahmud/anaconda3/lib/python3.11/site-packages (from dataclasses-json<0.6.0,>=0.5.7->langchain==0.0.148) (0.8.0)\n",
      "Requirement already satisfied: typing-extensions>=4.2.0 in /Users/iftymahmud/anaconda3/lib/python3.11/site-packages (from pydantic<2,>=1->langchain==0.0.148) (4.9.0)\n",
      "Requirement already satisfied: charset-normalizer<4,>=2 in /Users/iftymahmud/anaconda3/lib/python3.11/site-packages (from requests<3,>=2->langchain==0.0.148) (3.1.0)\n",
      "Requirement already satisfied: idna<4,>=2.5 in /Users/iftymahmud/anaconda3/lib/python3.11/site-packages (from requests<3,>=2->langchain==0.0.148) (3.4)\n",
      "Requirement already satisfied: urllib3<3,>=1.21.1 in /Users/iftymahmud/anaconda3/lib/python3.11/site-packages (from requests<3,>=2->langchain==0.0.148) (1.26.15)\n",
      "Requirement already satisfied: certifi>=2017.4.17 in /Users/iftymahmud/anaconda3/lib/python3.11/site-packages (from requests<3,>=2->langchain==0.0.148) (2022.12.7)\n"
     ]
    },
    {
     "name": "stdout",
     "output_type": "stream",
     "text": [
      "Requirement already satisfied: packaging>=17.0 in /Users/iftymahmud/anaconda3/lib/python3.11/site-packages (from marshmallow<4.0.0,>=3.3.0->dataclasses-json<0.6.0,>=0.5.7->langchain==0.0.148) (23.1)\n",
      "Requirement already satisfied: mypy-extensions>=0.3.0 in /Users/iftymahmud/anaconda3/lib/python3.11/site-packages (from typing-inspect>=0.4.0->dataclasses-json<0.6.0,>=0.5.7->langchain==0.0.148) (1.0.0)\n",
      "\u001b[31mERROR: Could not find a version that satisfies the requirement Python==3.11.7 (from versions: none)\u001b[0m\u001b[31m\n",
      "\u001b[0m\u001b[31mERROR: No matching distribution found for Python==3.11.7\u001b[0m\u001b[31m\n",
      "\u001b[0m"
     ]
    }
   ],
   "source": [
    "!pip install openai==1.10.0\n",
    "\n",
    "!pip install llama-index==0.9.42.post1\n",
    "\n",
    "!pip install gpt-index==0.4.24\n",
    "\n",
    "!pip install langchain==0.0.148\n",
    "!pip install Python==3.11.7\n"
   ]
  },
  {
   "cell_type": "code",
   "execution_count": 3,
   "id": "e9798deb",
   "metadata": {},
   "outputs": [],
   "source": [
    "from llama_index import SimpleDirectoryReader, GPTListIndex, readers, GPTVectorStoreIndex, get_response_synthesizer, StorageContext, LLMPredictor, PromptHelper, ServiceContext\n",
    "from llama_index.retrievers import VectorIndexRetriever\n",
    "from llama_index.query_engine import RetrieverQueryEngine\n",
    "from llama_index.postprocessor import SimilarityPostprocessor\n",
    "from langchain.chat_models import ChatOpenAI\n",
    "import sys\n",
    "import os\n",
    "from IPython.display import Markdown, display\n",
    "\n",
    "def construct_index(directory_path):\n",
    "\n",
    "    max_input_size = 4096\n",
    "    num_output = 2000\n",
    "    chunk_size_limit = 600\n",
    "\n",
    "    prompt_helper = PromptHelper(max_input_size, num_output, chunk_overlap_ratio= 0.1, chunk_size_limit=chunk_size_limit)\n",
    "    \n",
    "    llm_predictor = LLMPredictor(llm=ChatOpenAI(temperature=0.5, model_name=\"gpt-3.5-turbo-instruct\", max_tokens=num_output))\n",
    "\n",
    "    documents = SimpleDirectoryReader(directory_path).load_data()\n",
    "\n",
    "    service_context = ServiceContext.from_defaults(llm_predictor=llm_predictor, prompt_helper=prompt_helper)\n",
    "    index = GPTVectorStoreIndex.from_documents(documents, service_context=service_context)\n",
    "\n",
    "    return index\n",
    "\n",
    "\n",
    "def ask_ai(index):\n",
    "    retriever = VectorIndexRetriever(\n",
    "        index=index,\n",
    "        similarity_top_k=10,\n",
    "    )\n",
    "\n",
    "    response_synthesizer = get_response_synthesizer()\n",
    "\n",
    "    query_engine = RetrieverQueryEngine(\n",
    "        retriever=retriever,\n",
    "        response_synthesizer=response_synthesizer,\n",
    "        node_postprocessors=[SimilarityPostprocessor(similarity_cutoff=0.7)],\n",
    "    )\n",
    "\n",
    "    while True:\n",
    "        response = query_engine.query(input(\"<< What do you want to ask? >> \\n\"))\n",
    "        display(Markdown(f\"Response: <b>{response.response}</b>\"))"
   ]
  },
  {
   "cell_type": "code",
   "execution_count": 4,
   "id": "5fa9e082",
   "metadata": {},
   "outputs": [],
   "source": [
    "os.environ[\"OPENAI_API_KEY\"] = 'YOUR API KEY HERE'"
   ]
  },
  {
   "cell_type": "code",
   "execution_count": 5,
   "id": "233fc5a6",
   "metadata": {},
   "outputs": [
    {
     "name": "stdout",
     "output_type": "stream",
     "text": [
      "LLMPredictor is deprecated, please use LLM instead.\n"
     ]
    }
   ],
   "source": [
    "index = construct_index(\"data\")"
   ]
  },
  {
   "cell_type": "code",
   "execution_count": null,
   "id": "d78593dc",
   "metadata": {
    "scrolled": false
   },
   "outputs": [
    {
     "name": "stdout",
     "output_type": "stream",
     "text": [
      "<< What do you want to ask? >> \n",
      "Which courses do I need to do in the MAC Program?\n"
     ]
    },
    {
     "data": {
      "text/markdown": [
       "Response: <b>You need to take the following 8 courses in the MAC Program:\n",
       "- COMP-8117: Advanced Software Engineering Topics\n",
       "- COMP-8157: Advanced Database Topics\n",
       "- COMP-8347: Internet Applications and Distributed Systems\n",
       "- COMP-8547: Advanced Computing Concepts\n",
       "- COMP-8567: Advanced Systems Programming\n",
       "- COMP-8677: Networking and Data Security\n",
       "- COMP-8967: Internship/Project I\n",
       "- COMP-8977: Internship/Project II</b>"
      ],
      "text/plain": [
       "<IPython.core.display.Markdown object>"
      ]
     },
     "metadata": {},
     "output_type": "display_data"
    }
   ],
   "source": [
    "ask_ai(index)"
   ]
  },
  {
   "cell_type": "code",
   "execution_count": null,
   "id": "d64c4b82",
   "metadata": {},
   "outputs": [],
   "source": []
  }
 ],
 "metadata": {
  "kernelspec": {
   "display_name": "Python 3 (ipykernel)",
   "language": "python",
   "name": "python3"
  },
  "language_info": {
   "codemirror_mode": {
    "name": "ipython",
    "version": 3
   },
   "file_extension": ".py",
   "mimetype": "text/x-python",
   "name": "python",
   "nbconvert_exporter": "python",
   "pygments_lexer": "ipython3",
   "version": "3.11.5"
  }
 },
 "nbformat": 4,
 "nbformat_minor": 5
}
